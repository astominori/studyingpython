{
 "cells": [
  {
   "cell_type": "code",
   "execution_count": 11,
   "metadata": {},
   "outputs": [],
   "source": [
    "\n",
    "class Card:\n",
    "    suits = [\"spades\", \"hearts\", \"diamonds\", \"clubs\"]\n",
    "    \n",
    "    values =[None, None,\n",
    "             \"2\", \"3\",\"4\",\"5\",\"6\",\"7\",\"8\",\"9\",\"10\",\n",
    "             \"Jack\",\"Queen\",\"King\",\"Ace\"]\n",
    "    \n",
    "    def __init__(self,v,s):\n",
    "        \"\"\"スート（マーク）も値も整数値です\"\"\"\n",
    "        self.value = v\n",
    "        self.suit = s\n",
    "    \n",
    "    def __lt__(self, c2):\n",
    "        if self.value < c2.value:\n",
    "            return True\n",
    "        if self.value == c2.value:\n",
    "            if self.suit < c2.suit:\n",
    "                return True\n",
    "            else:\n",
    "                return Falese\n",
    "        return False\n",
    "    \n",
    "    def __gt__(self, c2):\n",
    "        if self.value > c2.value:\n",
    "            return True\n",
    "        if self.value == c2.value:\n",
    "            if self.suit > c2.suit:\n",
    "                return True\n",
    "            else:\n",
    "                return False\n",
    "        return False\n",
    "    \n",
    "    def __repr__(self):\n",
    "        v = self.values[self.value] + \" of \" + self.suits[self.suit]\n",
    "        return v\n",
    "\n",
    "    "
   ]
  },
  {
   "cell_type": "code",
   "execution_count": 12,
   "metadata": {},
   "outputs": [],
   "source": [
    "from random import shuffle\n",
    "\n",
    "class Deck:\n",
    "    def __init__(self):\n",
    "        self.cards = []\n",
    "        for i in range (2,15):\n",
    "            for j in range(4):\n",
    "                self.cards.append(Card(i,j))\n",
    "        shuffle(self.cards)\n",
    "    \n",
    "    def rm_card(self):\n",
    "        if len(self.cards) == 0:\n",
    "            return\n",
    "        return self.cards.pop()\n",
    "    "
   ]
  },
  {
   "cell_type": "code",
   "execution_count": 14,
   "metadata": {},
   "outputs": [
    {
     "name": "stdout",
     "output_type": "stream",
     "text": [
      "プレーヤー1の名前カンタ\n",
      "プレーヤー2の名前トミー\n",
      "戦争を始めます！\n",
      "qで終了、それ以外のキーでPlay:　\n",
      "カンタはAce of diamonds、トミーは8 of diamondsを引きました\n",
      "このラウンドはカンタが勝ちました\n",
      "qで終了、それ以外のキーでPlay:q\n",
      "ゲーム終了、カンタの勝利です!\n"
     ]
    }
   ],
   "source": [
    "\n",
    "class Player:\n",
    "    def __init__(self, name):\n",
    "        self.wins = 0\n",
    "        self.card = None\n",
    "        self.name = name\n",
    "\n",
    "class Game:\n",
    "    def __init__(self):\n",
    "        name1 = input(\"プレーヤー1の名前\")\n",
    "        name2 = input(\"プレーヤー2の名前\")\n",
    "        self.deck = Deck()\n",
    "        self.p1 = Player(name1)\n",
    "        self.p2 = Player(name2)\n",
    "    \n",
    "    def wins(self, winner):\n",
    "        w = \"このラウンドは{}が勝ちました\"\n",
    "        w = w.format(winner)\n",
    "        print(w)\n",
    "        \n",
    "    def draw(self, p1n, p1c, p2n, p2c):\n",
    "        d = \"{}は{}、{}は{}を引きました\"\n",
    "        d = d.format(p1n, p1c, p2n, p2c)\n",
    "        print(d)\n",
    "    \n",
    "    def play_game(self):\n",
    "        cards = self.deck.cards\n",
    "        print(\"戦争を始めます！\")\n",
    "        while len(cards) >=2:\n",
    "            m = \"qで終了、それ以外のキーでPlay:\"\n",
    "            response = input(m)\n",
    "            if response == \"q\":\n",
    "                break\n",
    "            p1c = self.deck.rm_card()\n",
    "            p2c = self.deck.rm_card()\n",
    "            p1n = self.p1.name\n",
    "            p2n = self.p2.name\n",
    "            self.draw(p1n,p1c,p2n,p2c)\n",
    "            if p1c > p2c:\n",
    "                self.p1.wins +=1\n",
    "                self.wins(self.p1.name)\n",
    "            else:\n",
    "                self.p2.wins +=1\n",
    "                self.wins(self.p2.name)\n",
    "        \n",
    "        win = self.winner(self.p1, self.p2)\n",
    "        print(\"ゲーム終了、{}の勝利です!\".format(win))\n",
    "    \n",
    "    def winner(self, p1, p2):\n",
    "        if p1.wins > p2.wins:\n",
    "            return p1.name\n",
    "        if p1.wins < p2.wins:\n",
    "            return p2.name\n",
    "        return \"引き分け!\"\n",
    "\n",
    "game = Game()\n",
    "game.play_game()"
   ]
  },
  {
   "cell_type": "code",
   "execution_count": 4,
   "metadata": {},
   "outputs": [
    {
     "name": "stdout",
     "output_type": "stream",
     "text": [
      "True\n"
     ]
    }
   ],
   "source": [
    "card1 = Card(10,2)\n",
    "card2 = Card(11,3)\n",
    "print(card1 < card2)"
   ]
  },
  {
   "cell_type": "code",
   "execution_count": null,
   "metadata": {},
   "outputs": [],
   "source": []
  },
  {
   "cell_type": "code",
   "execution_count": 5,
   "metadata": {},
   "outputs": [
    {
     "name": "stdout",
     "output_type": "stream",
     "text": [
      "False\n"
     ]
    }
   ],
   "source": [
    "card1 = Card(10,2)\n",
    "card2 = Card(11,3)\n",
    "print(card1 > card2)"
   ]
  },
  {
   "cell_type": "code",
   "execution_count": 7,
   "metadata": {},
   "outputs": [
    {
     "name": "stdout",
     "output_type": "stream",
     "text": [
      "10 of diamonds2\n"
     ]
    }
   ],
   "source": [
    "card1 = Card(10,2)\n",
    "print(card1)"
   ]
  },
  {
   "cell_type": "code",
   "execution_count": null,
   "metadata": {},
   "outputs": [],
   "source": []
  }
 ],
 "metadata": {
  "kernelspec": {
   "display_name": "Python 3",
   "language": "python",
   "name": "python3"
  },
  "language_info": {
   "codemirror_mode": {
    "name": "ipython",
    "version": 3
   },
   "file_extension": ".py",
   "mimetype": "text/x-python",
   "name": "python",
   "nbconvert_exporter": "python",
   "pygments_lexer": "ipython3",
   "version": "3.7.2"
  }
 },
 "nbformat": 4,
 "nbformat_minor": 2
}
